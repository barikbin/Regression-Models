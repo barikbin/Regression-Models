{
  "nbformat": 4,
  "nbformat_minor": 0,
  "metadata": {
    "colab": {
      "provenance": [],
      "authorship_tag": "ABX9TyNIKmxYXp2TXpZF+bp7dKjq",
      "include_colab_link": true
    },
    "kernelspec": {
      "name": "python3",
      "display_name": "Python 3"
    },
    "language_info": {
      "name": "python"
    }
  },
  "cells": [
    {
      "cell_type": "markdown",
      "metadata": {
        "id": "view-in-github",
        "colab_type": "text"
      },
      "source": [
        "<a href=\"https://colab.research.google.com/github/najmieh-s/Regression-Models/blob/main/Regression_Model_and_noise_with_advertising_dataset_with_evaluations_Fourth_Work_Frame_Developed.ipynb\" target=\"_parent\"><img src=\"https://colab.research.google.com/assets/colab-badge.svg\" alt=\"Open In Colab\"/></a>"
      ]
    },
    {
      "cell_type": "markdown",
      "source": [
        "**Introduction **"
      ],
      "metadata": {
        "id": "oyXHERZ71Sky"
      }
    },
    {
      "cell_type": "code",
      "execution_count": 9,
      "metadata": {
        "id": "BMsMrSAhzQ22"
      },
      "outputs": [],
      "source": [
        "import numpy as np\n",
        "import pandas as pd\n",
        "import os\n",
        "import seaborn as sns\n",
        "import matplotlib.pyplot as plt\n"
      ]
    },
    {
      "cell_type": "code",
      "source": [
        "\n",
        "from sklearn.model_selection import train_test_split\n",
        "from sklearn.linear_model import LinearRegression\n",
        "from sklearn.metrics import r2_score\n",
        "from sklearn.preprocessing import PolynomialFeatures\n",
        "from sklearn.ensemble import RandomForestRegressor\n"
      ],
      "metadata": {
        "id": "TsEv8oXr02FB"
      },
      "execution_count": 10,
      "outputs": []
    },
    {
      "cell_type": "code",
      "source": [
        "# Reading the files:\n",
        "\n",
        "def read_data():\n",
        "\n",
        "    df_bottle =pd.read_csv(\"./Advertising dataset.csv\")\n",
        "\n",
        "    return df_bottle\n",
        "\n",
        "print(read_data())    "
      ],
      "metadata": {
        "colab": {
          "base_uri": "https://localhost:8080/"
        },
        "id": "G0Ke5tdp1Z1L",
        "outputId": "8a52f617-1d90-4cb9-aaf7-948858ce9d6d"
      },
      "execution_count": 12,
      "outputs": [
        {
          "output_type": "stream",
          "name": "stdout",
          "text": [
            "        TV  radio  newspaper  sales\n",
            "0    230.1   37.8       69.2   22.1\n",
            "1     44.5   39.3       45.1   10.4\n",
            "2     17.2   45.9       69.3    9.3\n",
            "3    151.5   41.3       58.5   18.5\n",
            "4    180.8   10.8       58.4   12.9\n",
            "..     ...    ...        ...    ...\n",
            "195   38.2    3.7       13.8    7.6\n",
            "196   94.2    4.9        8.1    9.7\n",
            "197  177.0    9.3        6.4   12.8\n",
            "198  283.6   42.0       66.2   25.5\n",
            "199  232.1    8.6        8.7   13.4\n",
            "\n",
            "[200 rows x 4 columns]\n"
          ]
        }
      ]
    },
    {
      "cell_type": "code",
      "source": [
        "# Here we DO the preprocessing \n",
        "'''\n",
        "def clean(df):\n",
        "    df = df[[\" \", \" \", \" \"]]\n",
        "    df.rename( columns = { \n",
        "\n",
        "        \" \":\" \",\n",
        "        \" \":\" \",\n",
        "\n",
        "    }, inplace = True)\n",
        "\n",
        "    return df\n",
        "'''"
      ],
      "metadata": {
        "colab": {
          "base_uri": "https://localhost:8080/",
          "height": 36
        },
        "id": "wz1hGH2ZwATR",
        "outputId": "442e09b8-0d4e-4f61-89a8-d12845bbe1ed"
      },
      "execution_count": 13,
      "outputs": [
        {
          "output_type": "execute_result",
          "data": {
            "text/plain": [
              "'\\ndef clean(df):\\n    df = df[[\" \", \" \", \" \"]]\\n    df.rename( columns = { \\n\\n        \" \":\" \",\\n        \" \":\" \",\\n\\n    }, inplace = True)\\n\\n    return df\\n'"
            ],
            "application/vnd.google.colaboratory.intrinsic+json": {
              "type": "string"
            }
          },
          "metadata": {},
          "execution_count": 13
        }
      ]
    },
    {
      "cell_type": "code",
      "source": [
        "# Here remove none values \n",
        "\n",
        "def impute(df):\n",
        "     for name in df.select_dtypes(\"number\"):\n",
        "         df[name] = df[name].fillna(method=\"ffill\")\n",
        "\n",
        "     for name in df.select_dtypes(\"category\"):\n",
        "         df[name] = df[name].fillna(\"None\")    \n",
        "\n",
        "     return df\n",
        "         "
      ],
      "metadata": {
        "id": "Q81-kLxrwtsw"
      },
      "execution_count": 14,
      "outputs": []
    },
    {
      "cell_type": "code",
      "source": [
        "\n",
        "def load_data():\n",
        "     \n",
        "    # Here we read the data\n",
        "    df_bottle = read_data()\n",
        "    \n",
        "    df_bottle = impute(df_bottle)\n",
        "\n",
        "    return df_bottle\n"
      ],
      "metadata": {
        "id": "JBr1hnUUxbRp"
      },
      "execution_count": 15,
      "outputs": []
    },
    {
      "cell_type": "code",
      "source": [
        "\n",
        "# Loading the data\n",
        "\n",
        "df_bottle = load_data()\n",
        "\n",
        "\n",
        "print(df_bottle)"
      ],
      "metadata": {
        "colab": {
          "base_uri": "https://localhost:8080/"
        },
        "id": "kcOp-9-ryxpv",
        "outputId": "08e16d9a-13b3-43b1-ca92-f67909da5f55"
      },
      "execution_count": 16,
      "outputs": [
        {
          "output_type": "stream",
          "name": "stdout",
          "text": [
            "        TV  radio  newspaper  sales\n",
            "0    230.1   37.8       69.2   22.1\n",
            "1     44.5   39.3       45.1   10.4\n",
            "2     17.2   45.9       69.3    9.3\n",
            "3    151.5   41.3       58.5   18.5\n",
            "4    180.8   10.8       58.4   12.9\n",
            "..     ...    ...        ...    ...\n",
            "195   38.2    3.7       13.8    7.6\n",
            "196   94.2    4.9        8.1    9.7\n",
            "197  177.0    9.3        6.4   12.8\n",
            "198  283.6   42.0       66.2   25.5\n",
            "199  232.1    8.6        8.7   13.4\n",
            "\n",
            "[200 rows x 4 columns]\n"
          ]
        }
      ]
    },
    {
      "cell_type": "code",
      "source": [
        "\n",
        "# Looking at the data\n",
        "df_bottle.head()\n"
      ],
      "metadata": {
        "colab": {
          "base_uri": "https://localhost:8080/",
          "height": 206
        },
        "id": "D5Mgma8Zzqwi",
        "outputId": "512dc858-0c53-4208-bd36-ffeb1785035b"
      },
      "execution_count": 17,
      "outputs": [
        {
          "output_type": "execute_result",
          "data": {
            "text/plain": [
              "      TV  radio  newspaper  sales\n",
              "0  230.1   37.8       69.2   22.1\n",
              "1   44.5   39.3       45.1   10.4\n",
              "2   17.2   45.9       69.3    9.3\n",
              "3  151.5   41.3       58.5   18.5\n",
              "4  180.8   10.8       58.4   12.9"
            ],
            "text/html": [
              "\n",
              "  <div id=\"df-938d3256-fef2-4c3f-9dc4-12c5f5091cc6\">\n",
              "    <div class=\"colab-df-container\">\n",
              "      <div>\n",
              "<style scoped>\n",
              "    .dataframe tbody tr th:only-of-type {\n",
              "        vertical-align: middle;\n",
              "    }\n",
              "\n",
              "    .dataframe tbody tr th {\n",
              "        vertical-align: top;\n",
              "    }\n",
              "\n",
              "    .dataframe thead th {\n",
              "        text-align: right;\n",
              "    }\n",
              "</style>\n",
              "<table border=\"1\" class=\"dataframe\">\n",
              "  <thead>\n",
              "    <tr style=\"text-align: right;\">\n",
              "      <th></th>\n",
              "      <th>TV</th>\n",
              "      <th>radio</th>\n",
              "      <th>newspaper</th>\n",
              "      <th>sales</th>\n",
              "    </tr>\n",
              "  </thead>\n",
              "  <tbody>\n",
              "    <tr>\n",
              "      <th>0</th>\n",
              "      <td>230.1</td>\n",
              "      <td>37.8</td>\n",
              "      <td>69.2</td>\n",
              "      <td>22.1</td>\n",
              "    </tr>\n",
              "    <tr>\n",
              "      <th>1</th>\n",
              "      <td>44.5</td>\n",
              "      <td>39.3</td>\n",
              "      <td>45.1</td>\n",
              "      <td>10.4</td>\n",
              "    </tr>\n",
              "    <tr>\n",
              "      <th>2</th>\n",
              "      <td>17.2</td>\n",
              "      <td>45.9</td>\n",
              "      <td>69.3</td>\n",
              "      <td>9.3</td>\n",
              "    </tr>\n",
              "    <tr>\n",
              "      <th>3</th>\n",
              "      <td>151.5</td>\n",
              "      <td>41.3</td>\n",
              "      <td>58.5</td>\n",
              "      <td>18.5</td>\n",
              "    </tr>\n",
              "    <tr>\n",
              "      <th>4</th>\n",
              "      <td>180.8</td>\n",
              "      <td>10.8</td>\n",
              "      <td>58.4</td>\n",
              "      <td>12.9</td>\n",
              "    </tr>\n",
              "  </tbody>\n",
              "</table>\n",
              "</div>\n",
              "      <button class=\"colab-df-convert\" onclick=\"convertToInteractive('df-938d3256-fef2-4c3f-9dc4-12c5f5091cc6')\"\n",
              "              title=\"Convert this dataframe to an interactive table.\"\n",
              "              style=\"display:none;\">\n",
              "        \n",
              "  <svg xmlns=\"http://www.w3.org/2000/svg\" height=\"24px\"viewBox=\"0 0 24 24\"\n",
              "       width=\"24px\">\n",
              "    <path d=\"M0 0h24v24H0V0z\" fill=\"none\"/>\n",
              "    <path d=\"M18.56 5.44l.94 2.06.94-2.06 2.06-.94-2.06-.94-.94-2.06-.94 2.06-2.06.94zm-11 1L8.5 8.5l.94-2.06 2.06-.94-2.06-.94L8.5 2.5l-.94 2.06-2.06.94zm10 10l.94 2.06.94-2.06 2.06-.94-2.06-.94-.94-2.06-.94 2.06-2.06.94z\"/><path d=\"M17.41 7.96l-1.37-1.37c-.4-.4-.92-.59-1.43-.59-.52 0-1.04.2-1.43.59L10.3 9.45l-7.72 7.72c-.78.78-.78 2.05 0 2.83L4 21.41c.39.39.9.59 1.41.59.51 0 1.02-.2 1.41-.59l7.78-7.78 2.81-2.81c.8-.78.8-2.07 0-2.86zM5.41 20L4 18.59l7.72-7.72 1.47 1.35L5.41 20z\"/>\n",
              "  </svg>\n",
              "      </button>\n",
              "      \n",
              "  <style>\n",
              "    .colab-df-container {\n",
              "      display:flex;\n",
              "      flex-wrap:wrap;\n",
              "      gap: 12px;\n",
              "    }\n",
              "\n",
              "    .colab-df-convert {\n",
              "      background-color: #E8F0FE;\n",
              "      border: none;\n",
              "      border-radius: 50%;\n",
              "      cursor: pointer;\n",
              "      display: none;\n",
              "      fill: #1967D2;\n",
              "      height: 32px;\n",
              "      padding: 0 0 0 0;\n",
              "      width: 32px;\n",
              "    }\n",
              "\n",
              "    .colab-df-convert:hover {\n",
              "      background-color: #E2EBFA;\n",
              "      box-shadow: 0px 1px 2px rgba(60, 64, 67, 0.3), 0px 1px 3px 1px rgba(60, 64, 67, 0.15);\n",
              "      fill: #174EA6;\n",
              "    }\n",
              "\n",
              "    [theme=dark] .colab-df-convert {\n",
              "      background-color: #3B4455;\n",
              "      fill: #D2E3FC;\n",
              "    }\n",
              "\n",
              "    [theme=dark] .colab-df-convert:hover {\n",
              "      background-color: #434B5C;\n",
              "      box-shadow: 0px 1px 3px 1px rgba(0, 0, 0, 0.15);\n",
              "      filter: drop-shadow(0px 1px 2px rgba(0, 0, 0, 0.3));\n",
              "      fill: #FFFFFF;\n",
              "    }\n",
              "  </style>\n",
              "\n",
              "      <script>\n",
              "        const buttonEl =\n",
              "          document.querySelector('#df-938d3256-fef2-4c3f-9dc4-12c5f5091cc6 button.colab-df-convert');\n",
              "        buttonEl.style.display =\n",
              "          google.colab.kernel.accessAllowed ? 'block' : 'none';\n",
              "\n",
              "        async function convertToInteractive(key) {\n",
              "          const element = document.querySelector('#df-938d3256-fef2-4c3f-9dc4-12c5f5091cc6');\n",
              "          const dataTable =\n",
              "            await google.colab.kernel.invokeFunction('convertToInteractive',\n",
              "                                                     [key], {});\n",
              "          if (!dataTable) return;\n",
              "\n",
              "          const docLinkHtml = 'Like what you see? Visit the ' +\n",
              "            '<a target=\"_blank\" href=https://colab.research.google.com/notebooks/data_table.ipynb>data table notebook</a>'\n",
              "            + ' to learn more about interactive tables.';\n",
              "          element.innerHTML = '';\n",
              "          dataTable['output_type'] = 'display_data';\n",
              "          await google.colab.output.renderOutput(dataTable, element);\n",
              "          const docLink = document.createElement('div');\n",
              "          docLink.innerHTML = docLinkHtml;\n",
              "          element.appendChild(docLink);\n",
              "        }\n",
              "      </script>\n",
              "    </div>\n",
              "  </div>\n",
              "  "
            ]
          },
          "metadata": {},
          "execution_count": 17
        }
      ]
    },
    {
      "cell_type": "code",
      "source": [
        "# Dimension of the data\n",
        "df_bottle.shape"
      ],
      "metadata": {
        "colab": {
          "base_uri": "https://localhost:8080/"
        },
        "id": "x-VHTuu2z1nB",
        "outputId": "8beb14d2-b9d0-41fe-a8c4-911675c9296b"
      },
      "execution_count": 18,
      "outputs": [
        {
          "output_type": "execute_result",
          "data": {
            "text/plain": [
              "(200, 4)"
            ]
          },
          "metadata": {},
          "execution_count": 18
        }
      ]
    },
    {
      "cell_type": "code",
      "source": [
        "# State of the data\n",
        "df_bottle.describe()\n"
      ],
      "metadata": {
        "colab": {
          "base_uri": "https://localhost:8080/",
          "height": 300
        },
        "id": "azeddDplz88w",
        "outputId": "609fe140-00c4-4fb4-f81f-23c22c445239"
      },
      "execution_count": 19,
      "outputs": [
        {
          "output_type": "execute_result",
          "data": {
            "text/plain": [
              "               TV       radio   newspaper     sales\n",
              "count  200.000000  200.000000  200.000000  200.0000\n",
              "mean   145.377500   23.253000   30.738000   14.1050\n",
              "std     85.771352   14.932955   21.577994    5.2172\n",
              "min      0.700000    0.000000    0.300000    1.6000\n",
              "25%     70.250000    9.825000   13.050000   10.4000\n",
              "50%    145.100000   22.400000   26.050000   13.0500\n",
              "75%    218.425000   36.650000   45.100000   17.4000\n",
              "max    296.400000   49.600000  114.000000   27.0000"
            ],
            "text/html": [
              "\n",
              "  <div id=\"df-5346095b-114e-489f-9867-0b9361521f91\">\n",
              "    <div class=\"colab-df-container\">\n",
              "      <div>\n",
              "<style scoped>\n",
              "    .dataframe tbody tr th:only-of-type {\n",
              "        vertical-align: middle;\n",
              "    }\n",
              "\n",
              "    .dataframe tbody tr th {\n",
              "        vertical-align: top;\n",
              "    }\n",
              "\n",
              "    .dataframe thead th {\n",
              "        text-align: right;\n",
              "    }\n",
              "</style>\n",
              "<table border=\"1\" class=\"dataframe\">\n",
              "  <thead>\n",
              "    <tr style=\"text-align: right;\">\n",
              "      <th></th>\n",
              "      <th>TV</th>\n",
              "      <th>radio</th>\n",
              "      <th>newspaper</th>\n",
              "      <th>sales</th>\n",
              "    </tr>\n",
              "  </thead>\n",
              "  <tbody>\n",
              "    <tr>\n",
              "      <th>count</th>\n",
              "      <td>200.000000</td>\n",
              "      <td>200.000000</td>\n",
              "      <td>200.000000</td>\n",
              "      <td>200.0000</td>\n",
              "    </tr>\n",
              "    <tr>\n",
              "      <th>mean</th>\n",
              "      <td>145.377500</td>\n",
              "      <td>23.253000</td>\n",
              "      <td>30.738000</td>\n",
              "      <td>14.1050</td>\n",
              "    </tr>\n",
              "    <tr>\n",
              "      <th>std</th>\n",
              "      <td>85.771352</td>\n",
              "      <td>14.932955</td>\n",
              "      <td>21.577994</td>\n",
              "      <td>5.2172</td>\n",
              "    </tr>\n",
              "    <tr>\n",
              "      <th>min</th>\n",
              "      <td>0.700000</td>\n",
              "      <td>0.000000</td>\n",
              "      <td>0.300000</td>\n",
              "      <td>1.6000</td>\n",
              "    </tr>\n",
              "    <tr>\n",
              "      <th>25%</th>\n",
              "      <td>70.250000</td>\n",
              "      <td>9.825000</td>\n",
              "      <td>13.050000</td>\n",
              "      <td>10.4000</td>\n",
              "    </tr>\n",
              "    <tr>\n",
              "      <th>50%</th>\n",
              "      <td>145.100000</td>\n",
              "      <td>22.400000</td>\n",
              "      <td>26.050000</td>\n",
              "      <td>13.0500</td>\n",
              "    </tr>\n",
              "    <tr>\n",
              "      <th>75%</th>\n",
              "      <td>218.425000</td>\n",
              "      <td>36.650000</td>\n",
              "      <td>45.100000</td>\n",
              "      <td>17.4000</td>\n",
              "    </tr>\n",
              "    <tr>\n",
              "      <th>max</th>\n",
              "      <td>296.400000</td>\n",
              "      <td>49.600000</td>\n",
              "      <td>114.000000</td>\n",
              "      <td>27.0000</td>\n",
              "    </tr>\n",
              "  </tbody>\n",
              "</table>\n",
              "</div>\n",
              "      <button class=\"colab-df-convert\" onclick=\"convertToInteractive('df-5346095b-114e-489f-9867-0b9361521f91')\"\n",
              "              title=\"Convert this dataframe to an interactive table.\"\n",
              "              style=\"display:none;\">\n",
              "        \n",
              "  <svg xmlns=\"http://www.w3.org/2000/svg\" height=\"24px\"viewBox=\"0 0 24 24\"\n",
              "       width=\"24px\">\n",
              "    <path d=\"M0 0h24v24H0V0z\" fill=\"none\"/>\n",
              "    <path d=\"M18.56 5.44l.94 2.06.94-2.06 2.06-.94-2.06-.94-.94-2.06-.94 2.06-2.06.94zm-11 1L8.5 8.5l.94-2.06 2.06-.94-2.06-.94L8.5 2.5l-.94 2.06-2.06.94zm10 10l.94 2.06.94-2.06 2.06-.94-2.06-.94-.94-2.06-.94 2.06-2.06.94z\"/><path d=\"M17.41 7.96l-1.37-1.37c-.4-.4-.92-.59-1.43-.59-.52 0-1.04.2-1.43.59L10.3 9.45l-7.72 7.72c-.78.78-.78 2.05 0 2.83L4 21.41c.39.39.9.59 1.41.59.51 0 1.02-.2 1.41-.59l7.78-7.78 2.81-2.81c.8-.78.8-2.07 0-2.86zM5.41 20L4 18.59l7.72-7.72 1.47 1.35L5.41 20z\"/>\n",
              "  </svg>\n",
              "      </button>\n",
              "      \n",
              "  <style>\n",
              "    .colab-df-container {\n",
              "      display:flex;\n",
              "      flex-wrap:wrap;\n",
              "      gap: 12px;\n",
              "    }\n",
              "\n",
              "    .colab-df-convert {\n",
              "      background-color: #E8F0FE;\n",
              "      border: none;\n",
              "      border-radius: 50%;\n",
              "      cursor: pointer;\n",
              "      display: none;\n",
              "      fill: #1967D2;\n",
              "      height: 32px;\n",
              "      padding: 0 0 0 0;\n",
              "      width: 32px;\n",
              "    }\n",
              "\n",
              "    .colab-df-convert:hover {\n",
              "      background-color: #E2EBFA;\n",
              "      box-shadow: 0px 1px 2px rgba(60, 64, 67, 0.3), 0px 1px 3px 1px rgba(60, 64, 67, 0.15);\n",
              "      fill: #174EA6;\n",
              "    }\n",
              "\n",
              "    [theme=dark] .colab-df-convert {\n",
              "      background-color: #3B4455;\n",
              "      fill: #D2E3FC;\n",
              "    }\n",
              "\n",
              "    [theme=dark] .colab-df-convert:hover {\n",
              "      background-color: #434B5C;\n",
              "      box-shadow: 0px 1px 3px 1px rgba(0, 0, 0, 0.15);\n",
              "      filter: drop-shadow(0px 1px 2px rgba(0, 0, 0, 0.3));\n",
              "      fill: #FFFFFF;\n",
              "    }\n",
              "  </style>\n",
              "\n",
              "      <script>\n",
              "        const buttonEl =\n",
              "          document.querySelector('#df-5346095b-114e-489f-9867-0b9361521f91 button.colab-df-convert');\n",
              "        buttonEl.style.display =\n",
              "          google.colab.kernel.accessAllowed ? 'block' : 'none';\n",
              "\n",
              "        async function convertToInteractive(key) {\n",
              "          const element = document.querySelector('#df-5346095b-114e-489f-9867-0b9361521f91');\n",
              "          const dataTable =\n",
              "            await google.colab.kernel.invokeFunction('convertToInteractive',\n",
              "                                                     [key], {});\n",
              "          if (!dataTable) return;\n",
              "\n",
              "          const docLinkHtml = 'Like what you see? Visit the ' +\n",
              "            '<a target=\"_blank\" href=https://colab.research.google.com/notebooks/data_table.ipynb>data table notebook</a>'\n",
              "            + ' to learn more about interactive tables.';\n",
              "          element.innerHTML = '';\n",
              "          dataTable['output_type'] = 'display_data';\n",
              "          await google.colab.output.renderOutput(dataTable, element);\n",
              "          const docLink = document.createElement('div');\n",
              "          docLink.innerHTML = docLinkHtml;\n",
              "          element.appendChild(docLink);\n",
              "        }\n",
              "      </script>\n",
              "    </div>\n",
              "  </div>\n",
              "  "
            ]
          },
          "metadata": {},
          "execution_count": 19
        }
      ]
    },
    {
      "cell_type": "code",
      "source": [
        "df_bottle.columns"
      ],
      "metadata": {
        "colab": {
          "base_uri": "https://localhost:8080/"
        },
        "id": "Fi2WO92T0JnV",
        "outputId": "5f2de2d5-489e-4cd7-9219-14950510fd25"
      },
      "execution_count": 20,
      "outputs": [
        {
          "output_type": "execute_result",
          "data": {
            "text/plain": [
              "Index(['TV', 'radio', 'newspaper', 'sales'], dtype='object')"
            ]
          },
          "metadata": {},
          "execution_count": 20
        }
      ]
    },
    {
      "cell_type": "code",
      "source": [
        "null_count = df_bottle.isnull().sum()\n",
        "null_count\n"
      ],
      "metadata": {
        "colab": {
          "base_uri": "https://localhost:8080/"
        },
        "id": "HX_cVt5F0Rae",
        "outputId": "85fbf6ab-03b8-4974-fe3d-fdb0340b242e"
      },
      "execution_count": 21,
      "outputs": [
        {
          "output_type": "execute_result",
          "data": {
            "text/plain": [
              "TV           0\n",
              "radio        0\n",
              "newspaper    0\n",
              "sales        0\n",
              "dtype: int64"
            ]
          },
          "metadata": {},
          "execution_count": 21
        }
      ]
    },
    {
      "cell_type": "code",
      "source": [
        "# Here we calculate the null percentage\n",
        "\n",
        "null_count_percentage = round((null_count/df_bottle.shape[0])* 100, 2)\n",
        "\n",
        "for val in null_count_percentage.index:\n",
        "    print(val, \"\\t\", null_count_percentage[val])\n"
      ],
      "metadata": {
        "colab": {
          "base_uri": "https://localhost:8080/"
        },
        "id": "OgfrkSIp01xh",
        "outputId": "719ae6bf-eb51-454e-ba67-e7b83dcfd014"
      },
      "execution_count": 22,
      "outputs": [
        {
          "output_type": "stream",
          "name": "stdout",
          "text": [
            "TV \t 0.0\n",
            "radio \t 0.0\n",
            "newspaper \t 0.0\n",
            "sales \t 0.0\n"
          ]
        }
      ]
    },
    {
      "cell_type": "code",
      "source": [
        "for val in null_count.index:\n",
        "     print(val, \"\\t\", null_count[val])\n",
        "     "
      ],
      "metadata": {
        "colab": {
          "base_uri": "https://localhost:8080/"
        },
        "id": "DkLuFhxd1QYf",
        "outputId": "f3f09d70-cd08-4bda-a160-fe3e610504e2"
      },
      "execution_count": 23,
      "outputs": [
        {
          "output_type": "stream",
          "name": "stdout",
          "text": [
            "TV \t 0\n",
            "radio \t 0\n",
            "newspaper \t 0\n",
            "sales \t 0\n"
          ]
        }
      ]
    },
    {
      "cell_type": "code",
      "source": [
        "# Here we acquire the correlation between the variables \n",
        "df_bottle.corr()\n"
      ],
      "metadata": {
        "colab": {
          "base_uri": "https://localhost:8080/",
          "height": 175
        },
        "id": "PFz5Wi5p1eR4",
        "outputId": "e45e9fe6-ad1f-4cf9-eafc-31d71b101405"
      },
      "execution_count": 24,
      "outputs": [
        {
          "output_type": "execute_result",
          "data": {
            "text/plain": [
              "                 TV     radio  newspaper     sales\n",
              "TV         1.000000  0.063275   0.052211  0.744296\n",
              "radio      0.063275  1.000000   0.358478  0.577979\n",
              "newspaper  0.052211  0.358478   1.000000  0.211051\n",
              "sales      0.744296  0.577979   0.211051  1.000000"
            ],
            "text/html": [
              "\n",
              "  <div id=\"df-45fa2765-c18f-4a41-9722-3a4144832c7b\">\n",
              "    <div class=\"colab-df-container\">\n",
              "      <div>\n",
              "<style scoped>\n",
              "    .dataframe tbody tr th:only-of-type {\n",
              "        vertical-align: middle;\n",
              "    }\n",
              "\n",
              "    .dataframe tbody tr th {\n",
              "        vertical-align: top;\n",
              "    }\n",
              "\n",
              "    .dataframe thead th {\n",
              "        text-align: right;\n",
              "    }\n",
              "</style>\n",
              "<table border=\"1\" class=\"dataframe\">\n",
              "  <thead>\n",
              "    <tr style=\"text-align: right;\">\n",
              "      <th></th>\n",
              "      <th>TV</th>\n",
              "      <th>radio</th>\n",
              "      <th>newspaper</th>\n",
              "      <th>sales</th>\n",
              "    </tr>\n",
              "  </thead>\n",
              "  <tbody>\n",
              "    <tr>\n",
              "      <th>TV</th>\n",
              "      <td>1.000000</td>\n",
              "      <td>0.063275</td>\n",
              "      <td>0.052211</td>\n",
              "      <td>0.744296</td>\n",
              "    </tr>\n",
              "    <tr>\n",
              "      <th>radio</th>\n",
              "      <td>0.063275</td>\n",
              "      <td>1.000000</td>\n",
              "      <td>0.358478</td>\n",
              "      <td>0.577979</td>\n",
              "    </tr>\n",
              "    <tr>\n",
              "      <th>newspaper</th>\n",
              "      <td>0.052211</td>\n",
              "      <td>0.358478</td>\n",
              "      <td>1.000000</td>\n",
              "      <td>0.211051</td>\n",
              "    </tr>\n",
              "    <tr>\n",
              "      <th>sales</th>\n",
              "      <td>0.744296</td>\n",
              "      <td>0.577979</td>\n",
              "      <td>0.211051</td>\n",
              "      <td>1.000000</td>\n",
              "    </tr>\n",
              "  </tbody>\n",
              "</table>\n",
              "</div>\n",
              "      <button class=\"colab-df-convert\" onclick=\"convertToInteractive('df-45fa2765-c18f-4a41-9722-3a4144832c7b')\"\n",
              "              title=\"Convert this dataframe to an interactive table.\"\n",
              "              style=\"display:none;\">\n",
              "        \n",
              "  <svg xmlns=\"http://www.w3.org/2000/svg\" height=\"24px\"viewBox=\"0 0 24 24\"\n",
              "       width=\"24px\">\n",
              "    <path d=\"M0 0h24v24H0V0z\" fill=\"none\"/>\n",
              "    <path d=\"M18.56 5.44l.94 2.06.94-2.06 2.06-.94-2.06-.94-.94-2.06-.94 2.06-2.06.94zm-11 1L8.5 8.5l.94-2.06 2.06-.94-2.06-.94L8.5 2.5l-.94 2.06-2.06.94zm10 10l.94 2.06.94-2.06 2.06-.94-2.06-.94-.94-2.06-.94 2.06-2.06.94z\"/><path d=\"M17.41 7.96l-1.37-1.37c-.4-.4-.92-.59-1.43-.59-.52 0-1.04.2-1.43.59L10.3 9.45l-7.72 7.72c-.78.78-.78 2.05 0 2.83L4 21.41c.39.39.9.59 1.41.59.51 0 1.02-.2 1.41-.59l7.78-7.78 2.81-2.81c.8-.78.8-2.07 0-2.86zM5.41 20L4 18.59l7.72-7.72 1.47 1.35L5.41 20z\"/>\n",
              "  </svg>\n",
              "      </button>\n",
              "      \n",
              "  <style>\n",
              "    .colab-df-container {\n",
              "      display:flex;\n",
              "      flex-wrap:wrap;\n",
              "      gap: 12px;\n",
              "    }\n",
              "\n",
              "    .colab-df-convert {\n",
              "      background-color: #E8F0FE;\n",
              "      border: none;\n",
              "      border-radius: 50%;\n",
              "      cursor: pointer;\n",
              "      display: none;\n",
              "      fill: #1967D2;\n",
              "      height: 32px;\n",
              "      padding: 0 0 0 0;\n",
              "      width: 32px;\n",
              "    }\n",
              "\n",
              "    .colab-df-convert:hover {\n",
              "      background-color: #E2EBFA;\n",
              "      box-shadow: 0px 1px 2px rgba(60, 64, 67, 0.3), 0px 1px 3px 1px rgba(60, 64, 67, 0.15);\n",
              "      fill: #174EA6;\n",
              "    }\n",
              "\n",
              "    [theme=dark] .colab-df-convert {\n",
              "      background-color: #3B4455;\n",
              "      fill: #D2E3FC;\n",
              "    }\n",
              "\n",
              "    [theme=dark] .colab-df-convert:hover {\n",
              "      background-color: #434B5C;\n",
              "      box-shadow: 0px 1px 3px 1px rgba(0, 0, 0, 0.15);\n",
              "      filter: drop-shadow(0px 1px 2px rgba(0, 0, 0, 0.3));\n",
              "      fill: #FFFFFF;\n",
              "    }\n",
              "  </style>\n",
              "\n",
              "      <script>\n",
              "        const buttonEl =\n",
              "          document.querySelector('#df-45fa2765-c18f-4a41-9722-3a4144832c7b button.colab-df-convert');\n",
              "        buttonEl.style.display =\n",
              "          google.colab.kernel.accessAllowed ? 'block' : 'none';\n",
              "\n",
              "        async function convertToInteractive(key) {\n",
              "          const element = document.querySelector('#df-45fa2765-c18f-4a41-9722-3a4144832c7b');\n",
              "          const dataTable =\n",
              "            await google.colab.kernel.invokeFunction('convertToInteractive',\n",
              "                                                     [key], {});\n",
              "          if (!dataTable) return;\n",
              "\n",
              "          const docLinkHtml = 'Like what you see? Visit the ' +\n",
              "            '<a target=\"_blank\" href=https://colab.research.google.com/notebooks/data_table.ipynb>data table notebook</a>'\n",
              "            + ' to learn more about interactive tables.';\n",
              "          element.innerHTML = '';\n",
              "          dataTable['output_type'] = 'display_data';\n",
              "          await google.colab.output.renderOutput(dataTable, element);\n",
              "          const docLink = document.createElement('div');\n",
              "          docLink.innerHTML = docLinkHtml;\n",
              "          element.appendChild(docLink);\n",
              "        }\n",
              "      </script>\n",
              "    </div>\n",
              "  </div>\n",
              "  "
            ]
          },
          "metadata": {},
          "execution_count": 24
        }
      ]
    },
    {
      "cell_type": "code",
      "source": [
        "# Looking at the graphical presentation of the data\n",
        "sns.pairplot(data=df_bottle.sample(100))\n"
      ],
      "metadata": {
        "colab": {
          "base_uri": "https://localhost:8080/",
          "height": 744
        },
        "id": "u-gWXTKy1vgF",
        "outputId": "1e1d84f4-c5ca-4db8-ad9c-8a0b9b12b783"
      },
      "execution_count": 25,
      "outputs": [
        {
          "output_type": "execute_result",
          "data": {
            "text/plain": [
              "<seaborn.axisgrid.PairGrid at 0x7f5876b29970>"
            ]
          },
          "metadata": {},
          "execution_count": 25
        },
        {
          "output_type": "display_data",
          "data": {
            "text/plain": [
              "<Figure size 720x720 with 20 Axes>"
            ],
            "image/png": "[encoded data removed]"
          },
          "metadata": {
            "needs_background": "light"
          }
        }
      ]
    },
    {
      "cell_type": "code",
      "source": [
        "\n",
        "fig, ax = plt.subplots(figsize=(10,10))\n",
        "\n",
        "sns.scatterplot(data=df_bottle, x=\"sales\", y=\"TV\", color=\"k\", ax=ax)\n",
        "sns.kdeplot(data=df_bottle, x=\"sales\", y=\"TV\", levels=8, fill=True, alpha=0.6, cut=3, ax=ax )\n",
        "\n",
        "plt.show()\n"
      ],
      "metadata": {
        "colab": {
          "base_uri": "https://localhost:8080/",
          "height": 607
        },
        "id": "68Z5nNLg2NAD",
        "outputId": "caa2d37a-8473-4b47-a3ea-3ac82873e80c"
      },
      "execution_count": 26,
      "outputs": [
        {
          "output_type": "display_data",
          "data": {
            "text/plain": [
              "<Figure size 720x720 with 1 Axes>"
            ],
            "image/png": "[encoded data removed]"
          },
          "metadata": {
            "needs_background": "light"
          }
        }
      ]
    },
    {
      "cell_type": "code",
      "source": [
        "\n",
        "sns.jointplot(data=df_bottle, x=\"sales\", y=\"TV\")\n"
      ],
      "metadata": {
        "colab": {
          "base_uri": "https://localhost:8080/",
          "height": 459
        },
        "id": "FuHYQV4r3dod",
        "outputId": "9b22f03c-7893-45b2-ac57-0ba0251ac920"
      },
      "execution_count": 27,
      "outputs": [
        {
          "output_type": "execute_result",
          "data": {
            "text/plain": [
              "<seaborn.axisgrid.JointGrid at 0x7f5875834310>"
            ]
          },
          "metadata": {},
          "execution_count": 27
        },
        {
          "output_type": "display_data",
          "data": {
            "text/plain": [
              "<Figure size 432x432 with 3 Axes>"
            ],
            "image/png": "[encoded data removed]"
          },
          "metadata": {
            "needs_background": "light"
          }
        }
      ]
    },
    {
      "cell_type": "code",
      "source": [
        "# The relationship between Sales and Radio Ads of the penguins\n",
        "\n",
        "fig, ax= plt.subplots(figsize=(10, 10))\n",
        "\n",
        "sns.scatterplot(data=df_bottle, x=\"sales\", y=\"radio\", color=\"k\", ax=ax)\n",
        "sns.kdeplot(data=df_bottle, x=\"sales\", y=\"radio\", levels=8, fill=True, alpha= 0.6, cut=3, ax=ax)\n",
        "\n",
        "plt.show()\n"
      ],
      "metadata": {
        "colab": {
          "base_uri": "https://localhost:8080/",
          "height": 606
        },
        "id": "eCqR9DCx3uDc",
        "outputId": "de3f880d-abb5-4309-ebea-16b466cfd757"
      },
      "execution_count": 28,
      "outputs": [
        {
          "output_type": "display_data",
          "data": {
            "text/plain": [
              "<Figure size 720x720 with 1 Axes>"
            ],
            "image/png": "[encoded data removed]"
          },
          "metadata": {
            "needs_background": "light"
          }
        }
      ]
    },
    {
      "cell_type": "code",
      "source": [
        "\n",
        "sns.jointplot(data=df_bottle, x=\"sales\", y=\"radio\")\n"
      ],
      "metadata": {
        "colab": {
          "base_uri": "https://localhost:8080/",
          "height": 459
        },
        "id": "BvqXGhLk4vgm",
        "outputId": "5487b55b-c75c-4127-a85e-e443e72c2f75"
      },
      "execution_count": 29,
      "outputs": [
        {
          "output_type": "execute_result",
          "data": {
            "text/plain": [
              "<seaborn.axisgrid.JointGrid at 0x7f58724b06d0>"
            ]
          },
          "metadata": {},
          "execution_count": 29
        },
        {
          "output_type": "display_data",
          "data": {
            "text/plain": [
              "<Figure size 432x432 with 3 Axes>"
            ],
            "image/png": "[encoded data removed]"
          },
          "metadata": {
            "needs_background": "light"
          }
        }
      ]
    },
    {
      "cell_type": "code",
      "source": [
        "\n",
        "# Spliting the data into train and test sets\n",
        "\n",
        "print(df_bottle.shape)\n",
        "print(df_bottle.columns)\n",
        "\n",
        "# These are the features. It  means we make prediction based on these two factors\n",
        "X= df_bottle['sales']\n",
        "y= df_bottle['radio']\n",
        "\n",
        "\n",
        "# We split the train and test function here\n",
        "X_train, X_test, y_train, y_test = train_test_split(X, y, random_state=104, test_size=0.35, shuffle=True)\n",
        "\n",
        "# Printing the shape of the train sets\n",
        "print('X_train' )\n",
        "print(X_train.head())\n",
        "print(X_train.shape)\n",
        "\n",
        "# Printing the shape of the train sets\n",
        "print('y_train' )\n",
        "print(y_train.head())\n",
        "print(y_train.shape)\n",
        "\n",
        "# Printing the shape of the test sets\n",
        "print('')\n",
        "print('X_test : ')\n",
        "print(X_test.head())\n",
        "print(X_test.shape)\n",
        "\n",
        "# Prinintg the shape of y test \n",
        "print('')\n",
        "print('y_test: ')\n",
        "print(y_test.head())\n",
        "print(y_test.shape)\n"
      ],
      "metadata": {
        "colab": {
          "base_uri": "https://localhost:8080/"
        },
        "id": "ABww_JFJ48rI",
        "outputId": "309ee820-4aa4-490d-fb4c-81cb64c2c1ea"
      },
      "execution_count": 30,
      "outputs": [
        {
          "output_type": "stream",
          "name": "stdout",
          "text": [
            "(200, 4)\n",
            "Index(['TV', 'radio', 'newspaper', 'sales'], dtype='object')\n",
            "X_train\n",
            "31     11.9\n",
            "39     21.5\n",
            "184    17.6\n",
            "78     14.2\n",
            "17     24.4\n",
            "Name: sales, dtype: float64\n",
            "(130,)\n",
            "y_train\n",
            "31     17.4\n",
            "39     37.7\n",
            "184    21.3\n",
            "78     29.9\n",
            "17     39.6\n",
            "Name: radio, dtype: float64\n",
            "(130,)\n",
            "\n",
            "X_test : \n",
            "104    20.7\n",
            "128    24.7\n",
            "49      9.7\n",
            "34      9.5\n",
            "64     18.0\n",
            "Name: sales, dtype: float64\n",
            "(70,)\n",
            "\n",
            "y_test: \n",
            "104    34.3\n",
            "128    49.0\n",
            "49     11.7\n",
            "34      1.4\n",
            "64     42.8\n",
            "Name: radio, dtype: float64\n",
            "(70,)\n"
          ]
        }
      ]
    },
    {
      "cell_type": "code",
      "source": [
        "'''\n",
        "Evaluates different score for the predictes data\n",
        "'''\n",
        "def evaluate(y_test_reshaped, y_predict):\n",
        "    \n",
        "    print(\"Mean absolute error: %.2f\" %np.mean(np.absolute(y_predict - y_test_reshaped)))\n",
        "    print(\"Residual sum of squares (MSE): %.2f\" %np.mean((y_predict - y_test_reshaped) ** 2))\n",
        "    print(\"R2-score: %.2f\" %r2_score(y_predict, y_test_reshaped))\n"
      ],
      "metadata": {
        "id": "cSpKgasM5wW_"
      },
      "execution_count": 31,
      "outputs": []
    },
    {
      "cell_type": "code",
      "source": [
        "print(len(X_train))\n",
        "print(len(X_test))\n",
        "print(len(y_train))\n",
        "print(len(y_test))\n",
        "\n",
        "X_train, X_test, y_train, y_test\n",
        "\n",
        "lr=LinearRegression()\n",
        "x_train_reshaped = X_train.values.reshape(-1,1)\n",
        "y_train_reshaped = y_train.values.reshape(-1,1)\n",
        "x_test_reshaped = X_test.values.reshape(-1,1)\n",
        "y_test_reshaped = y_test.values.reshape(-1,1)\n",
        "\n",
        "#print(x_train_reshaped)\n",
        "#print(y_train_reshaped)\n",
        "\n",
        "lr=LinearRegression()\n",
        "lr.fit(x_train_reshaped,y_train_reshaped)\n",
        "y_predict=lr.predict(x_test_reshaped)\n",
        "\n",
        "\n",
        "plt.scatter(x_test_reshaped, y_test, color=\"purple\")\n",
        "plt.plot(x_test_reshaped, y_predict, color=\"blue\", linewidth=3)\n",
        "\n",
        "plt.xticks(())\n",
        "plt.yticks(())\n",
        "\n",
        "plt.show()\n",
        "\n",
        "\n"
      ],
      "metadata": {
        "colab": {
          "base_uri": "https://localhost:8080/",
          "height": 325
        },
        "id": "Kna6yCDTDKDC",
        "outputId": "1be31fdc-ccce-492f-c19e-594e9e96ae5c"
      },
      "execution_count": 93,
      "outputs": [
        {
          "output_type": "stream",
          "name": "stdout",
          "text": [
            "130\n",
            "70\n",
            "130\n",
            "70\n"
          ]
        },
        {
          "output_type": "display_data",
          "data": {
            "text/plain": [
              "<Figure size 432x288 with 1 Axes>"
            ],
            "image/png": "[encoded data removed]"
          },
          "metadata": {}
        }
      ]
    },
    {
      "cell_type": "code",
      "source": [
        "'''\n",
        "Here we print the coeffecient of the model with this function!\n",
        "\n",
        "'''\n",
        "def coeffecients(model):\n",
        "    print(\"Coefficients of the model: \", model.coef_)\n",
        "    print(\"Intercept of the model:  \", model.intercept_)\n",
        "    \n"
      ],
      "metadata": {
        "id": "20An740_7qjB"
      },
      "execution_count": 94,
      "outputs": []
    },
    {
      "cell_type": "code",
      "source": [
        "# How model is performing\n",
        "print(\"LinearRegression score: %.2f\" %lr.score(x_train_reshaped, y_train_reshaped))\n",
        "coeffecients(lr)\n",
        "evaluate(y_test_reshaped, y_predict)\n",
        "\n",
        "del lr"
      ],
      "metadata": {
        "colab": {
          "base_uri": "https://localhost:8080/"
        },
        "id": "oUBzQV-eCb9X",
        "outputId": "ccfe7c7c-a54b-42b9-9a7e-731344425c9e"
      },
      "execution_count": 95,
      "outputs": [
        {
          "output_type": "stream",
          "name": "stdout",
          "text": [
            "LinearRegression score: 0.33\n",
            "Coefficients of the model:  [[1.72497613]]\n",
            "Intercept of the model:   [0.01181208]\n",
            "Mean absolute error: 9.90\n",
            "Residual sum of squares (MSE): 155.80\n",
            "R2-score: -0.64\n"
          ]
        }
      ]
    },
    {
      "cell_type": "markdown",
      "source": [
        "**Here we add the noise**"
      ],
      "metadata": {
        "id": "XnMotgrAKLsf"
      }
    },
    {
      "cell_type": "code",
      "source": [
        "# Here we genrate a random number as a noise \n",
        "\n",
        "import numpy as np\n",
        "\n",
        "random_numbers_1 = np.empty(100000)\n",
        "random_numbers_2 = np.empty(100000)\n",
        "\n",
        "for i in range(70):\n",
        "    random_numbers_1[i] = np.random.random()\n",
        "    print(random_numbers_1[i])\n",
        "\n",
        "for i in range(130):\n",
        "    random_numbers_2[i] = np.random.random()\n",
        "    print(random_numbers_2[i])\n"
      ],
      "metadata": {
        "colab": {
          "base_uri": "https://localhost:8080/"
        },
        "id": "0WWTxxLYK41p",
        "outputId": "f1b6f7b4-3034-4287-e788-54fe271a870f"
      },
      "execution_count": 99,
      "outputs": [
        {
          "output_type": "stream",
          "name": "stdout",
          "text": [
            "0.45718302128741006\n",
            "0.8034030486896778\n",
            "0.6255533708799482\n",
            "0.9884001665828273\n",
            "0.9856414202961317\n",
            "0.0671752815838137\n",
            "0.5896386430980575\n",
            "0.0890320806269187\n",
            "0.20038492831875554\n",
            "0.4535523027682359\n",
            "0.7567294917192199\n",
            "0.7355457815376637\n",
            "0.929083150820295\n",
            "0.9743933014432113\n",
            "0.7832131032907635\n",
            "0.5743642580337817\n",
            "0.14460672053966428\n",
            "0.45454260859580164\n",
            "0.07687492519772021\n",
            "0.1632523842735345\n",
            "0.9250258786164632\n",
            "0.6753437847418023\n",
            "0.4222661494944149\n",
            "0.8032815280869267\n",
            "0.6453693689688152\n",
            "0.8731790719187538\n",
            "0.6203448759751559\n",
            "0.3013269300652941\n",
            "0.7832951808875482\n",
            "0.012759261049082982\n",
            "0.5124532587620426\n",
            "0.19481082517336368\n",
            "0.7144689704612305\n",
            "0.8181733044994727\n",
            "0.8623515084836579\n",
            "0.17447705176968775\n",
            "0.37917501304827606\n",
            "0.01556822000335345\n",
            "0.1067062969678284\n",
            "0.8089789482731004\n",
            "0.10066717923796364\n",
            "0.7151256245365557\n",
            "0.6284086269095644\n",
            "0.6101983391107672\n",
            "0.6309699611300731\n",
            "0.2531438117136192\n",
            "0.15033854746534736\n",
            "0.5267251617250869\n",
            "0.5305363533874933\n",
            "0.08858264601545174\n",
            "0.24399313937683142\n",
            "0.28369102511017963\n",
            "0.6288984181846662\n",
            "0.4231026894787828\n",
            "0.39371736790579903\n",
            "0.08884593830430343\n",
            "0.683273865835854\n",
            "0.2846791610613961\n",
            "0.05501386473544723\n",
            "0.09008591122185727\n",
            "0.14445623461438029\n",
            "0.14120486619927908\n",
            "0.11880896379920203\n",
            "0.7925318308628296\n",
            "0.08867336354919486\n",
            "0.6101666910091313\n",
            "0.9783287883108556\n",
            "0.6189718845079415\n",
            "0.5882140564679522\n",
            "0.4744468521385836\n",
            "0.5497939940507066\n",
            "0.35465749973939864\n",
            "0.3515414897760054\n",
            "0.5883333470259671\n",
            "0.27896686272312965\n",
            "0.08032846865168652\n",
            "0.9436510571997839\n",
            "0.49902338821901204\n",
            "0.8917081951266219\n",
            "0.20169373282718106\n",
            "0.477451059281247\n",
            "0.8517805364802684\n",
            "0.6849873109009268\n",
            "0.41400925352862084\n",
            "0.2662298271417086\n",
            "0.8230838497735588\n",
            "0.22062816992689416\n",
            "0.08443541829783985\n",
            "0.5148058844096747\n",
            "0.08802829208831142\n",
            "0.49772631339571927\n",
            "0.9134627694271338\n",
            "0.822350777672171\n",
            "0.8460675396691837\n",
            "0.46505875559515164\n",
            "0.34696761565816714\n",
            "0.6758306005926519\n",
            "0.6317100177459911\n",
            "0.05633951418650285\n",
            "0.9343156120543372\n",
            "0.008363763619278375\n",
            "0.4623328262266073\n",
            "0.9087444691365325\n",
            "0.6641825339577503\n",
            "0.8954893252769006\n",
            "0.5725011147247632\n",
            "0.5243457730298609\n",
            "0.36898001587065543\n",
            "0.3469526093648896\n",
            "0.8073737648808521\n",
            "0.8244176998069328\n",
            "0.79367756494739\n",
            "0.9277777661925958\n",
            "0.9476137098410714\n",
            "0.7783176705676393\n",
            "0.14790214322063022\n",
            "0.3603241381594119\n",
            "0.7204007854784273\n",
            "0.8610250861804545\n",
            "0.06953815645970618\n",
            "0.721137431703767\n",
            "0.8746560640677385\n",
            "0.9761952992570054\n",
            "0.4499140600219532\n",
            "0.8058308634528277\n",
            "0.8643724100683288\n",
            "0.23620601917213047\n",
            "0.30596151550046236\n",
            "0.34406465378544016\n",
            "0.24386401158007986\n",
            "0.20491395629248277\n",
            "0.44229602514503263\n",
            "0.5530912610875729\n",
            "0.8327011035213184\n",
            "0.040078416480171186\n",
            "0.16319152035259255\n",
            "0.9568840675652146\n",
            "0.42225527876820124\n",
            "0.9083146882198683\n",
            "0.6349482259981372\n",
            "0.8333665634392179\n",
            "0.6700358107243622\n",
            "0.5036667404821709\n",
            "0.7444206008654974\n",
            "0.41539348063998194\n",
            "0.6173253959301481\n",
            "0.9706338296637002\n",
            "0.6380151320200266\n",
            "0.5835327482774254\n",
            "0.5374287015018141\n",
            "0.425566214464111\n",
            "0.02559572874689009\n",
            "0.04228130304458866\n",
            "0.846926525474297\n",
            "0.11363978660666241\n",
            "0.6925416016655436\n",
            "0.658769531283676\n",
            "0.8413052144356618\n",
            "0.6092301648264256\n",
            "0.23461214494388394\n",
            "0.08856814603602514\n",
            "0.7935872476558388\n",
            "0.2754656683930906\n",
            "0.007906539288137004\n",
            "0.7732113082853495\n",
            "0.502074277638787\n",
            "0.07186205416868674\n",
            "0.9692312280400568\n",
            "0.6068037224607837\n",
            "0.8044405489110452\n",
            "0.2810566094125835\n",
            "0.9750959874130131\n",
            "0.8499794393800388\n",
            "0.10155240459303272\n",
            "0.12360518842282298\n",
            "0.7891845637997272\n",
            "0.4957769083299892\n",
            "0.3146754577184335\n",
            "0.9178886200138711\n",
            "0.7974999118566228\n",
            "0.7978906334631792\n",
            "0.6607997594973836\n",
            "0.6362815168763577\n",
            "0.15667128519940876\n",
            "0.6352162571492705\n",
            "0.7912229348682734\n",
            "0.4126850794387915\n",
            "0.7283669038879252\n",
            "0.6026624855069149\n",
            "0.12152960525022649\n",
            "0.11417425587834351\n",
            "0.6198920087839808\n",
            "0.14513779945481964\n",
            "0.18452801716659217\n",
            "0.8216832873474398\n",
            "0.20087140416845073\n",
            "0.4394206278501026\n",
            "0.7288335448983044\n",
            "0.5774150849913369\n",
            "0.2600821305611316\n"
          ]
        }
      ]
    },
    {
      "cell_type": "code",
      "source": [
        "# Here we add the noise to the data\n",
        "\n",
        "X_train, X_test, y_train, y_test\n",
        "\n",
        "print(\"X_train before noise: \", X_train)\n",
        "print(\"X_test before noise: \", X_test)\n",
        "print(\"y_train before noise: \", y_train)\n",
        "print(\"y_test before noise: \", y_test)\n",
        "\n",
        "for i in range(70):\n",
        "     X_test_with_noise  = X_test.mul(random_numbers_1[i])\n",
        "     y_test_with_noise  = y_test.mul(random_numbers_1[i])\n",
        "\n",
        "for i in range(130):\n",
        "     X_train_with_noise = X_train.mul(random_numbers_2[i])\n",
        "     y_train_with_noise = y_train.mul(random_numbers_2[i])     \n",
        "\n",
        "print(\"X_train with noise: \", X_train_with_noise)\n",
        "print(\"X_test with noise: \", y_test_with_noise)\n",
        "print(\"y_train with noise: \", y_train_with_noise)\n",
        "print(\"y_test with noise: \", y_test_with_noise)\n",
        "\n"
      ],
      "metadata": {
        "colab": {
          "base_uri": "https://localhost:8080/"
        },
        "id": "W31suMCOv-n-",
        "outputId": "86c202a6-491d-4eba-e602-6178727e1d27"
      },
      "execution_count": 103,
      "outputs": [
        {
          "output_type": "stream",
          "name": "stdout",
          "text": [
            "X_train before noise:  31     11.9\n",
            "39     21.5\n",
            "184    17.6\n",
            "78     14.2\n",
            "17     24.4\n",
            "       ... \n",
            "127     8.8\n",
            "166     8.0\n",
            "142    20.1\n",
            "193    19.6\n",
            "69     22.3\n",
            "Name: sales, Length: 130, dtype: float64\n",
            "X_test before noise:  104    20.7\n",
            "128    24.7\n",
            "49      9.7\n",
            "34      9.5\n",
            "64     18.0\n",
            "       ... \n",
            "146    13.2\n",
            "124    19.7\n",
            "0      22.1\n",
            "162    14.9\n",
            "21     12.5\n",
            "Name: sales, Length: 70, dtype: float64\n",
            "y_train before noise:  31     17.4\n",
            "39     37.7\n",
            "184    21.3\n",
            "78     29.9\n",
            "17     39.6\n",
            "       ... \n",
            "127     0.0\n",
            "166    37.6\n",
            "142    33.2\n",
            "193    42.0\n",
            "69     43.9\n",
            "Name: radio, Length: 130, dtype: float64\n",
            "y_test before noise:  104    34.3\n",
            "128    49.0\n",
            "49     11.7\n",
            "34      1.4\n",
            "64     42.8\n",
            "       ... \n",
            "146     7.3\n",
            "124    32.3\n",
            "0      37.8\n",
            "162    18.1\n",
            "21      5.1\n",
            "Name: radio, Length: 70, dtype: float64\n",
            "X_train with noise:  31     3.094977\n",
            "39     5.591766\n",
            "184    4.577445\n",
            "78     3.693166\n",
            "17     6.346004\n",
            "         ...   \n",
            "127    2.288723\n",
            "166    2.080657\n",
            "142    5.227651\n",
            "193    5.097610\n",
            "69     5.799832\n",
            "Name: sales, Length: 130, dtype: float64\n",
            "X_test with noise:  104    16.273527\n",
            "128    23.247896\n",
            "49      5.551028\n",
            "34      0.664226\n",
            "64     20.306325\n",
            "         ...    \n",
            "146     3.463462\n",
            "124    15.324633\n",
            "0      17.934091\n",
            "162     8.587488\n",
            "21      2.419679\n",
            "Name: radio, Length: 70, dtype: float64\n",
            "y_train with noise:  31      4.525429\n",
            "39      9.805096\n",
            "184     5.539749\n",
            "78      7.776456\n",
            "17     10.299252\n",
            "         ...    \n",
            "127     0.000000\n",
            "166     9.779088\n",
            "142     8.634727\n",
            "193    10.923449\n",
            "69     11.417606\n",
            "Name: radio, Length: 130, dtype: float64\n",
            "y_test with noise:  104    16.273527\n",
            "128    23.247896\n",
            "49      5.551028\n",
            "34      0.664226\n",
            "64     20.306325\n",
            "         ...    \n",
            "146     3.463462\n",
            "124    15.324633\n",
            "0      17.934091\n",
            "162     8.587488\n",
            "21      2.419679\n",
            "Name: radio, Length: 70, dtype: float64\n"
          ]
        }
      ]
    },
    {
      "cell_type": "code",
      "source": [
        "X_train_with_noise, y_train_with_noise, X_test_with_noise, y_test_with_noise\n",
        "\n",
        "plt.scatter(X_train_with_noise, y_train_with_noise)\n",
        "plt.show()\n"
      ],
      "metadata": {
        "colab": {
          "base_uri": "https://localhost:8080/",
          "height": 265
        },
        "id": "6l4zTexe2_h6",
        "outputId": "c0b31e2d-59d9-453d-93c8-dc993a35ff00"
      },
      "execution_count": 104,
      "outputs": [
        {
          "output_type": "display_data",
          "data": {
            "text/plain": [
              "<Figure size 432x288 with 1 Axes>"
            ],
            "image/png": "[encoded data removed]"
          },
          "metadata": {
            "needs_background": "light"
          }
        }
      ]
    },
    {
      "cell_type": "code",
      "source": [
        "X_train_with_noise, y_train_with_noise, X_test_with_noise, y_test_with_noise\n",
        "\n",
        "plt.scatter(X_test_with_noise, y_test_with_noise)\n",
        "plt.show()\n"
      ],
      "metadata": {
        "colab": {
          "base_uri": "https://localhost:8080/",
          "height": 265
        },
        "id": "ql01z7Yw3ZHg",
        "outputId": "aa8459ca-f6b8-4bc4-bfa2-8f218daee53d"
      },
      "execution_count": 105,
      "outputs": [
        {
          "output_type": "display_data",
          "data": {
            "text/plain": [
              "<Figure size 432x288 with 1 Axes>"
            ],
            "image/png": "[encoded data removed]"
          },
          "metadata": {
            "needs_background": "light"
          }
        }
      ]
    },
    {
      "cell_type": "code",
      "source": [
        "# Re-execute the Regression Model\n",
        "X_train_with_noise, y_train_with_noise, X_test_with_noise, y_test_with_noise\n",
        "\n",
        "\n",
        "lr=LinearRegression()\n",
        "noisy_reshaped_x_train = X_train_with_noise.values.reshape(-1,1)\n",
        "noisy_reshaped_y_train = y_train_with_noise.values.reshape(-1,1)\n",
        "noisy_reshaped_x_test = X_test_with_noise.values.reshape(-1,1)\n",
        "noisy_reshaped_y_test = y_test_with_noise.values.reshape(-1,1)\n",
        "\n",
        "lr_1=LinearRegression()\n",
        "lr_1.fit(noisy_reshaped_x_train ,noisy_reshaped_y_train)\n",
        "y_predict_1=lr_1.predict(noisy_reshaped_x_test)\n",
        "\n",
        "plt.scatter(noisy_reshaped_x_test, noisy_reshaped_y_test, color=\"purple\")\n",
        "plt.plot(noisy_reshaped_x_test, y_predict_1, color=\"blue\", linewidth=3)\n",
        "\n",
        "plt.xticks(())\n",
        "plt.yticks(())\n",
        "\n",
        "plt.show()"
      ],
      "metadata": {
        "colab": {
          "base_uri": "https://localhost:8080/",
          "height": 252
        },
        "id": "ogR4tgTr3yje",
        "outputId": "c3347d06-efb6-4f58-a872-c42790979a94"
      },
      "execution_count": 106,
      "outputs": [
        {
          "output_type": "display_data",
          "data": {
            "text/plain": [
              "<Figure size 432x288 with 1 Axes>"
            ],
            "image/png": "[encoded data removed]"
          },
          "metadata": {}
        }
      ]
    },
    {
      "cell_type": "code",
      "source": [
        "# How model is performing\n",
        "print(\"LinearRegression score: %.2f\" %lr_1.score(noisy_reshaped_x_train, noisy_reshaped_y_train))\n",
        "coeffecients(lr_1)\n",
        "evaluate(noisy_reshaped_y_test, y_predict_1)\n",
        "\n",
        "del lr_1"
      ],
      "metadata": {
        "colab": {
          "base_uri": "https://localhost:8080/"
        },
        "id": "NM8S6rmEJuYI",
        "outputId": "5946969e-9b7c-4d2d-8652-c99092db5d4a"
      },
      "execution_count": 107,
      "outputs": [
        {
          "output_type": "stream",
          "name": "stdout",
          "text": [
            "LinearRegression score: 0.33\n",
            "Coefficients of the model:  [[1.72497613]]\n",
            "Intercept of the model:   [0.00307211]\n",
            "Mean absolute error: 4.70\n",
            "Residual sum of squares (MSE): 35.06\n",
            "R2-score: -0.64\n"
          ]
        }
      ]
    }
  ]
}